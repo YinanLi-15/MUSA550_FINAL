{
 "cells": [
  {
   "cell_type": "markdown",
   "metadata": {},
   "source": [
    "# Final Project Proposal -- Does NYC Metro Region have a home-job balance?\n",
    "Dec. 6th, MUSA 550 - Fall 2023\n",
    "Shuting Li(402), Jingyi Cai(401), Yinan Li(401)\n",
    "\n",
    "\n"
   ]
  },
  {
   "cell_type": "markdown",
   "metadata": {},
   "source": [
    "### 1.Background"
   ]
  },
  {
   "cell_type": "markdown",
   "metadata": {},
   "source": [
    "Following the establishment and expansion of the commuter rail system in the early 1900s and the consequent growth of the regional highway network, New York City's economic progress became closely entwined with the housing and population expansion in the surrounding region. NYC depends on a real estate market stretching beyond its city limits.\n",
    "The workforce in New York City comprises 8.8 million individuals, (2022 Labor Market Snapshot of New York, NYATEP) with 80% residing within the city's five boroughs. The remaining 20%, live outside NYC, dispersed across other areas within the broader metropolitan New York region.\n",
    "To study and predict the home-job mismatch trend, we would like to explore its geographic distribution, temporal trends, and in particular, the contributing factors, such as housing prices, job opportunities, and the pandemic. In this project, we attempt to use data analytics and machine learning methods to build a job geography model, explore the mechanisms, and predict future trends.\n"
   ]
  },
  {
   "cell_type": "markdown",
   "metadata": {},
   "source": [
    "### 2.The Questions that We Want to Explore\n",
    "**- How does the Pandemic change the home and job distribution in the NYC Metro Region? (2019 vs. 2021)**\n",
    "- 2 Maps of population and jobs geographical distribution in - 2019 vs. 2022\n",
    "- Housing price geographical distribution (2019 vs. 2021)\n",
    "- Tenure (Rental/Ownership) Rate by County (2019 vs. 2021)\n",
    "- Trend of total job numbers change from 2001-2021 (line chart)\n",
    "- Employment of industries change (2019 to 2021)\n",
    "- Employment Change by County (2019 to 2021)\n",
    "- Datasets:\n",
    "    - Population: ACS-5 year\n",
    "    - Housing: ACS-5 year\n",
    "    - Jobs: BLS QCEW\n",
    "    \n",
    "**- What is the commuting pattern between the regions?**\n",
    "- OD data: LEHD-LODES\n",
    "\n",
    "**- What variable contributes to the job-home mismatch?** (2019-2021, by person, machine learning prediction)\n",
    "- Target Variable:\n",
    "    - Job-home distance, numerical\n",
    "        - from home place census tract centroid to work place census tract centroid\n",
    "- Features:\n",
    "    - Geography, categorical (One-hot Encode)\n",
    "        - County/borough: is_MN, is_BK, is_Hudson…\n",
    "    - Age (LODES), categorical\n",
    "        - is_younger_29: ≤ 29\n",
    "        - is_30_54: 30-54\n",
    "        - is_older_55: ≥ 55\n",
    "    - Industry (LODES), categorical\n",
    "        - is_GP: Goods Producing industry sectors\n",
    "        - is_TTU: Trade, Transportation, and Utilities industry sectors\n",
    "        - is_Services: All Other Services industry sectors\n",
    "    - Personal income (LODES), categorical\n",
    "        - is_less_1250: ≤ $1,250\n",
    "        - is_1251_3333: $1,251 ~ $3,333\n",
    "        - is_more_3334: ≥ $3,334\n",
    "    - Median housing price (ACS-5), numerical\n",
    "        - by the residence place census tract\n",
    "    - Job Density (LODES), numerical\n",
    "        - by the workplace census tract\n",
    "- Tenure (Rental/Ownership) Rate by County (2019 vs. 2021)\n",
    "- Trend of total job numbers change from 2001-2021 (line chart)\n",
    "- Employment of industries change (2019 to 2021)\n",
    "- Employment Change by County (2019 to 2021)\n",
    "- Datasets:\n",
    "    - Population: ACS-5 year\n",
    "    - Housing: ACS-5 year\n",
    "    - Jobs: BLS QCEW\n",
    "    \n",
    "**Possible Conclusion:** \n",
    "The escalating job opportunities in New York City have propelled a surge in housing prices, intensifying an imbalanced home-job dynamic. This gravitational pull has created a pronounced 'siphoning effect' on the surrounding metro region. We predict that due to factors like the high-density job market, higher incomes, and soaring housing prices within NYC, plus the WFH new pattern after the Pandemic, in the future, more people will opt to live in the surrounding areas while commuting to work in the central area of New York City."
   ]
  },
  {
   "cell_type": "markdown",
   "metadata": {},
   "source": [
    "### 3.The Dataset(s) We Wish to Use in the Project\n",
    "- Geography Boundary\n",
    "    - NYC 5 boroughs\n",
    "        - Manhattan: New York County, New York\n",
    "        - Brooklyn: Kings County, New York\n",
    "        - Bronx: Bronx County, New York\n",
    "        - Queens: Queens County, New York\n",
    "        - Staten Island: Richmond County, New York\n",
    "    - Outside NYC counties:\n",
    "        - Jersey City: Hudson County, New Jersey\n",
    "        - Long Island: Nassau County, New York\n",
    "    - Geographical level:\n",
    "        - by census tract\n",
    "    \n",
    "<img src=\"boundaries.png\" width=1000></img>\n",
    "\n",
    "- Population: ACS-5 year (API)\n",
    "    - Housing Price\n",
    "    - Tenure (Rental/Ownership)\n",
    "    - Demographic\n",
    "    - Socio-economy (income)\n",
    "- Jobs: BLS QCEW\n",
    "    - Industry (NAICS 2-digit)\n",
    "- OD data: LEHD-LODES\n",
    "    - LATEST: 2021"
   ]
  },
  {
   "cell_type": "markdown",
   "metadata": {},
   "source": [
    "## 4.The Analysis Methods and Techniques that We Will Use\n",
    "**1.How does the Pandemic change the home and job distribution in the NYC Metro Region? (2019 vs. 2021)**\n",
    "- **Geospatial joins/ Folium Map**: After wrangling and cleaning the data, to visualize population and jobs, our team will utilize geospatial joins for the dataset in the NYC metro region. Then, we will use geopandas and folium maps to visualize them.\n",
    "- **Seaborn - Line Chart**: To compare the job trend before and after the pandemic, a line chart will be helpful to show the recent 20 years’ (2002-2022) job numbers.\n",
    "- **Other Exploratory Data Analysis**: Some other datasets, such as medium income or average salary, could also hint at the reasons why New York attracts neighborhood employment populations. By conducting preliminary EDAs, we could have a sense of the importance, geographical distribution and changing trend of the features, which will help us to build a more reasonable prediction ML models.\n",
    "\n",
    "**2.What is the commuting pattern between the regions?**\n",
    "- **OD visualization**:  OD data will help show the commuting pattern. The origin will be the place out of NY city, and the destination will be in NYC. This will show how NYC will attract people in the surrounding area in employment.\n",
    "- **Distance Calculation**: With the dataset we have, our team will calculate the OD distance (from home place census tract centroid to workplace census tract centroid), which will be our target variable.\n",
    "- **Cluster Analysis**: In this part, we want to explore the commuting pattern in the NYC metro region. We will use cluster analysis to define different clusters and find their pattern.\n",
    "\n",
    "**3.What variable contributes to the job-home mismatch? - Machine Learning**\n",
    "\n",
    "To build our model, we decided to integrate a variety of factors that would be helpful for the **OD distance prediction**. With the machine learning model, we can know the most important features contributing to long-distance commuting. We will also compare the important features before and after COVID-19 to see if there is any difference. Here are the attributes of the variables:\n",
    "- **Demographic data**: job is closely connected with income and salary, which might be important variables to predict future job distributions.\n",
    "    - **Income**: personal income will also be an important factor to push people choose long-distance commuting.\n",
    "    - **Population density**: jobs are closely connected with population density, and future population will have an effect on future employment patterns.\n",
    "    - **Age**: residents’ age implies how many working population are there in the group.\n",
    "- **Home price**: many people choose to live in the surrounding area and work in New York because of vacations. So, home prices could also be an important factor.\n",
    "- **Job patterns**: the number, type of jobs are important factors to attract people.\n",
    "    - **Total number of jobs**: generally, if there are many jobs in an area, it will be attractive to people.\n",
    "    - **Types of job**:  types of job sometimes show the method of someone’s work mode, which might also be a factor.\n",
    
    "Our analysis will be based on random forest regression as it shows a degree of high accuracy."
   ]
  },
  {
   "cell_type": "markdown",
   "metadata": {},
   "source": [
    "### 5.How the above items satisfy the requirements outlined in the final project description?\n",
    "- **Data is collected through a means more sophisticated than downloading (e.g. scraping, API).**\n",
    "- **At least one of the datasets contains more than 1,000,000 rows.**\n",
    "- **It combines data collected from 3 or more different sources.**\n",
    "- **The analysis of the data is reasonably complex, involving multiple steps (geospatial joins/operations, data shaping, data frame operations, etc).**\n",
    "- You use an osmnx or pandana to perform an analysis of street network data\n",
    "- **You use scikit-learn to perform a clustering analysis**\n",
    "- You analyze raster data using rasterio, rasterstats, or xarray.\n",
    "- **You perform a machine learning analysis with scikit-learn as part of the analysis.**\n",
    "- **The project includes a deployed Panel dashboard**\n",
    "- **The project includes multiple interactive visualizations that include a significant interactive component (cross-filtering, interactive widgets, etc)**"
   ]
  },
  {
   "cell_type": "markdown",
   "metadata": {},
   "source": [
    "### 6.Concerns\n",
    "- The LODES dataset is collected by person, which might be too large for model training.\n",
    "- Could the latest 2021 dataset represent the post-pandemic job market?\n",
    "\n",
    "<img src=\"trends.png\" width=1000></img>"
   ]
  }
 ],
 "metadata": {
  "kernelspec": {
   "display_name": "Python 3 (ipykernel)",
   "language": "python",
   "name": "python3"
  },
  "language_info": {
   "codemirror_mode": {
    "name": "ipython",
    "version": 3
   },
   "file_extension": ".py",
   "mimetype": "text/x-python",
   "name": "python",
   "nbconvert_exporter": "python",
   "pygments_lexer": "ipython3",
   "version": "3.10.12"
  }
 },
 "nbformat": 4,
 "nbformat_minor": 4
}
